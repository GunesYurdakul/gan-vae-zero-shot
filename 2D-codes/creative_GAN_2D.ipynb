{
 "cells": [
  {
   "cell_type": "markdown",
   "metadata": {},
   "source": [
    "# CREATIVE 2D GAN MODEL"
   ]
  },
  {
   "cell_type": "code",
   "execution_count": 1,
   "metadata": {},
   "outputs": [
    {
     "name": "stderr",
     "output_type": "stream",
     "text": [
      "/Users/gunesyurdakul/anaconda/lib/python3.5/importlib/_bootstrap.py:222: RuntimeWarning: compiletime version 3.6 of module 'tensorflow.python.framework.fast_tensor_util' does not match runtime version 3.5\n",
      "  return f(*args, **kwds)\n",
      "/Users/gunesyurdakul/anaconda/lib/python3.5/site-packages/h5py/__init__.py:36: FutureWarning: Conversion of the second argument of issubdtype from `float` to `np.floating` is deprecated. In future, it will be treated as `np.float64 == np.dtype(float).type`.\n",
      "  from ._conv import register_converters as _register_converters\n"
     ]
    }
   ],
   "source": [
    "from Datasets import *\n",
    "from GAN import *\n",
    "import matplotlib.image as mpimg\n",
    "import matplotlib.pyplot as plt"
   ]
  },
  {
   "cell_type": "markdown",
   "metadata": {},
   "source": [
    "## 8 Gaussian - old model"
   ]
  },
  {
   "cell_type": "code",
   "execution_count": 2,
   "metadata": {},
   "outputs": [
    {
     "name": "stdout",
     "output_type": "stream",
     "text": [
      "Namespace(batch_size=400, dataset='8Gaussians', fig_name='creative_with_missing_mixt', label=True, lambda_d=0.0, lambda_g=0.0, loss='gan', lrd=0.009, lrg=0.003, minibatch_discriminate=False, missing_mixt=0, nhidden=64, niters=3001, nlayers=4, notebook=True, optim='SGD', scale=2.0)\n",
      "WARNING:tensorflow:From /Users/gunesyurdakul/Desktop/epfl-semester2/semester project/gunes/2DGaussians/GAN.py:172: softmax_cross_entropy_with_logits (from tensorflow.python.ops.nn_ops) is deprecated and will be removed in a future version.\n",
      "Instructions for updating:\n",
      "\n",
      "Future major versions of TensorFlow will allow gradients to flow\n",
      "into the labels input on backprop by default.\n",
      "\n",
      "See @{tf.nn.softmax_cross_entropy_with_logits_v2}.\n",
      "\n",
      "(?, 0)\n",
      "Iter: 0, d_loss: 1.40313148, g_loss: 0.68133044\n",
      "Iter: 100, d_loss: 1.29435134, g_loss: 1.51256680\n",
      "Iter: 200, d_loss: 1.19038987, g_loss: 1.21793032\n",
      "Iter: 300, d_loss: 1.23274815, g_loss: 1.13335752\n",
      "Iter: 400, d_loss: 1.32630825, g_loss: 0.93252927\n",
      "Iter: 500, d_loss: 1.37621200, g_loss: 1.21648574\n",
      "Iter: 600, d_loss: 1.31272149, g_loss: 0.82790548\n",
      "Iter: 700, d_loss: 1.27648759, g_loss: 0.99130094\n",
      "Iter: 800, d_loss: 1.31171727, g_loss: 0.92407942\n",
      "Iter: 900, d_loss: 1.36993551, g_loss: 0.86155295\n",
      "Iter: 1000, d_loss: 1.31832433, g_loss: 1.07003260\n",
      "Iter: 1100, d_loss: 1.34056377, g_loss: 0.81207120\n",
      "Iter: 1200, d_loss: 1.34244382, g_loss: 0.83297080\n",
      "Iter: 1300, d_loss: 1.36707437, g_loss: 0.73740232\n",
      "Iter: 1400, d_loss: 1.37082601, g_loss: 0.75187409\n",
      "Iter: 1500, d_loss: 1.36150765, g_loss: 0.77098328\n",
      "Iter: 1600, d_loss: 1.36107635, g_loss: 0.77894163\n",
      "Iter: 1700, d_loss: 1.35138452, g_loss: 0.75223297\n",
      "Iter: 1800, d_loss: 1.33376312, g_loss: 0.76192689\n",
      "Iter: 1900, d_loss: 1.36287773, g_loss: 0.75502044\n",
      "Iter: 2000, d_loss: 1.32509923, g_loss: 0.77254015\n",
      "Iter: 2100, d_loss: 1.38128638, g_loss: 0.74215317\n",
      "Iter: 2200, d_loss: 1.37889099, g_loss: 0.70606554\n",
      "Iter: 2300, d_loss: 1.35709119, g_loss: 0.73945272\n",
      "Iter: 2400, d_loss: 1.37392592, g_loss: 0.70791656\n",
      "Iter: 2500, d_loss: 1.37175012, g_loss: 0.75594068\n",
      "Iter: 2600, d_loss: 1.38697076, g_loss: 0.70103532\n",
      "Iter: 2700, d_loss: 1.35541368, g_loss: 0.69550341\n",
      "Iter: 2800, d_loss: 1.43259335, g_loss: 0.62967753\n",
      "Iter: 2900, d_loss: 1.38125360, g_loss: 0.70468879\n",
      "Iter: 3000, d_loss: 1.37842321, g_loss: 0.71562576\n",
      " [*] Training finished!\n"
     ]
    }
   ],
   "source": [
    "%run GAN.py --fig_name creative_with_missing_mixt --label --notebook --lambda_g 0 --lambda_d 0 --missing_mixt 0"
   ]
  },
  {
   "cell_type": "markdown",
   "metadata": {},
   "source": [
    "### Plots"
   ]
  },
  {
   "cell_type": "markdown",
   "metadata": {},
   "source": [
    "![title](figs/old_model/creative_with_missing_mixt.png)\n",
    "![title](figs/old_model/creative_with_missing_mixt-metrics.png)\n",
    "![title](figs/density/oldmodel_full_mixt/critic_generated3000.png)"
   ]
  },
  {
   "cell_type": "markdown",
   "metadata": {},
   "source": [
    "## 8 Gaussian - old model - one mixture missing"
   ]
  },
  {
   "cell_type": "code",
   "execution_count": 3,
   "metadata": {},
   "outputs": [
    {
     "name": "stdout",
     "output_type": "stream",
     "text": [
      "Namespace(batch_size=400, dataset='8Gaussians', fig_name='creative_with_missing_mixt', label=True, lambda_d=0.0, lambda_g=0.0, loss='gan', lrd=0.009, lrg=0.003, minibatch_discriminate=False, missing_mixt=1, nhidden=64, niters=3001, nlayers=4, notebook=True, optim='SGD', scale=2.0)\n",
      "(?, 0)\n",
      "Iter: 0, d_loss: 1.28842831, g_loss: 0.69024885\n",
      "Iter: 100, d_loss: 1.27225161, g_loss: 0.92001271\n",
      "Iter: 200, d_loss: 0.95983464, g_loss: 1.56384099\n",
      "Iter: 300, d_loss: 0.95737445, g_loss: 1.66208279\n",
      "Iter: 400, d_loss: 1.06930983, g_loss: 1.28313673\n",
      "Iter: 500, d_loss: 1.11136436, g_loss: 1.10934734\n",
      "Iter: 600, d_loss: 1.14906812, g_loss: 1.03127789\n",
      "Iter: 700, d_loss: 1.08763671, g_loss: 1.13800621\n",
      "Iter: 800, d_loss: 1.10532117, g_loss: 1.24836230\n",
      "Iter: 900, d_loss: 1.18799663, g_loss: 0.93027872\n",
      "Iter: 1000, d_loss: 1.20707178, g_loss: 0.86656904\n",
      "Iter: 1100, d_loss: 1.12103844, g_loss: 0.98991531\n",
      "Iter: 1200, d_loss: 1.18444872, g_loss: 0.89503992\n",
      "Iter: 1300, d_loss: 1.17259634, g_loss: 0.87545496\n",
      "Iter: 1400, d_loss: 1.15892708, g_loss: 0.90890765\n",
      "Iter: 1500, d_loss: 1.15529418, g_loss: 0.88628435\n",
      "Iter: 1600, d_loss: 1.16479218, g_loss: 0.91382658\n",
      "Iter: 1700, d_loss: 1.12639058, g_loss: 0.99671125\n",
      "Iter: 1800, d_loss: 1.14620090, g_loss: 0.91773820\n",
      "Iter: 1900, d_loss: 1.14531362, g_loss: 0.94657254\n",
      "Iter: 2000, d_loss: 1.16153836, g_loss: 0.92817903\n",
      "Iter: 2100, d_loss: 1.15867591, g_loss: 0.89855248\n",
      "Iter: 2200, d_loss: 1.14346933, g_loss: 0.91269267\n",
      "Iter: 2300, d_loss: 1.14832187, g_loss: 0.91482788\n",
      "Iter: 2400, d_loss: 1.14173985, g_loss: 0.93387085\n",
      "Iter: 2500, d_loss: 1.14508510, g_loss: 0.93987006\n",
      "Iter: 2600, d_loss: 1.18663740, g_loss: 0.89146745\n",
      "Iter: 2700, d_loss: 1.12269211, g_loss: 0.99999148\n",
      "Iter: 2800, d_loss: 1.13423181, g_loss: 0.92391288\n",
      "Iter: 2900, d_loss: 1.15478659, g_loss: 0.99623293\n",
      "Iter: 3000, d_loss: 1.13524294, g_loss: 0.96315980\n",
      " [*] Training finished!\n"
     ]
    }
   ],
   "source": [
    "%run GAN.py --fig_name creative_with_missing_mixt --label --notebook --lambda_g 0 --lambda_d 0 --missing_mixt 1"
   ]
  },
  {
   "cell_type": "markdown",
   "metadata": {},
   "source": [
    "### Plots"
   ]
  },
  {
   "cell_type": "markdown",
   "metadata": {},
   "source": [
    "![title](figs\\old_model_1_missing\\creative_with_missing_mixt.png)\n",
    "![title](figs\\old_model_1_missing\\creative_with_missing_mixt-metrics.png)\n",
    "![title](figs\\density/old_model_1_missing\\critic_generated3000.png)"
   ]
  },
  {
   "cell_type": "markdown",
   "metadata": {},
   "source": [
    "## 8 Gaussian - new model (d 0.2 g 0.2)- one mixture missing"
   ]
  },
  {
   "cell_type": "code",
   "execution_count": 4,
   "metadata": {},
   "outputs": [
    {
     "name": "stdout",
     "output_type": "stream",
     "text": [
      "Namespace(batch_size=400, dataset='8Gaussians', fig_name='creative_with_missing_mixt', label=True, lambda_d=0.2, lambda_g=0.2, loss='gan', lrd=0.009, lrg=0.003, minibatch_discriminate=False, missing_mixt=1, nhidden=64, niters=3001, nlayers=4, notebook=True, optim='SGD', scale=2.0)\n",
      "(?, 0)\n",
      "Iter: 0, d_loss: 2.18839502, g_loss: 1.10605931\n",
      "Iter: 100, d_loss: 1.86809587, g_loss: 1.83360934\n",
      "Iter: 200, d_loss: 1.82188654, g_loss: 1.41666842\n",
      "Iter: 300, d_loss: 1.68179834, g_loss: 1.78023136\n",
      "Iter: 400, d_loss: 1.84921074, g_loss: 1.36805952\n",
      "Iter: 500, d_loss: 1.78582382, g_loss: 1.46817899\n",
      "Iter: 600, d_loss: 1.80775714, g_loss: 1.36466932\n",
      "Iter: 700, d_loss: 1.82114804, g_loss: 1.54618597\n",
      "Iter: 800, d_loss: 1.89719701, g_loss: 1.38964653\n",
      "Iter: 900, d_loss: 1.87333322, g_loss: 1.31941497\n",
      "Iter: 1000, d_loss: 1.88306379, g_loss: 1.24203777\n",
      "Iter: 1100, d_loss: 1.84628463, g_loss: 1.31378806\n",
      "Iter: 1200, d_loss: 1.85312915, g_loss: 1.29315662\n",
      "Iter: 1300, d_loss: 1.84019947, g_loss: 1.29772329\n",
      "Iter: 1400, d_loss: 1.84592581, g_loss: 1.28494692\n",
      "Iter: 1500, d_loss: 2.05260229, g_loss: 1.66577721\n",
      "Iter: 1600, d_loss: 1.88579607, g_loss: 1.31118250\n",
      "Iter: 1700, d_loss: 1.85227656, g_loss: 1.31885934\n",
      "Iter: 1800, d_loss: 1.89592814, g_loss: 1.29367292\n",
      "Iter: 1900, d_loss: 1.90598154, g_loss: 1.29225171\n",
      "Iter: 2000, d_loss: 1.85282612, g_loss: 1.30884147\n",
      "Iter: 2100, d_loss: 1.90100896, g_loss: 1.28068697\n",
      "Iter: 2200, d_loss: 1.92649305, g_loss: 1.29624057\n",
      "Iter: 2300, d_loss: 1.84899259, g_loss: 1.28113711\n",
      "Iter: 2400, d_loss: 1.91091430, g_loss: 1.73180664\n",
      "Iter: 2500, d_loss: 1.85569334, g_loss: 1.31254578\n",
      "Iter: 2600, d_loss: 1.86509812, g_loss: 1.28445172\n",
      "Iter: 2700, d_loss: 1.85862517, g_loss: 1.29867053\n",
      "Iter: 2800, d_loss: 1.85596061, g_loss: 1.28938138\n",
      "Iter: 2900, d_loss: 1.89785838, g_loss: 1.26526690\n",
      "Iter: 3000, d_loss: 1.87872338, g_loss: 1.28431225\n",
      " [*] Training finished!\n"
     ]
    }
   ],
   "source": [
    "%run GAN.py --fig_name creative_with_missing_mixt --label --notebook --lambda_g 0.2 --lambda_d 0.2 --missing_mixt 1"
   ]
  },
  {
   "cell_type": "markdown",
   "metadata": {},
   "source": [
    "![title](figs\\new_model_1_missing_0.2_0.2\\creative_with_missing_mixt.png)\n",
    "![title](figs\\new_model_1_missing_0.2_0.2\\creative_with_missing_mixt-metrics.png)\n",
    "![title](figs\\density/new_model_1_missing_0.2_0.2\\critic_generated3000.png)"
   ]
  },
  {
   "cell_type": "markdown",
   "metadata": {},
   "source": [
    "### Plots"
   ]
  },
  {
   "cell_type": "markdown",
   "metadata": {},
   "source": [
    "## 8 Gaussian - new model (d 1 g 0)- one mixture missing"
   ]
  },
  {
   "cell_type": "code",
   "execution_count": 5,
   "metadata": {},
   "outputs": [
    {
     "name": "stdout",
     "output_type": "stream",
     "text": [
      "Namespace(batch_size=400, dataset='8Gaussians', fig_name='creative_with_missing_mixt', label=True, lambda_d=1.0, lambda_g=0.0, loss='gan', lrd=0.009, lrg=0.003, minibatch_discriminate=False, missing_mixt=1, nhidden=64, niters=3001, nlayers=4, notebook=True, optim='SGD', scale=2.0)\n",
      "(?, 0)\n",
      "Iter: 0, d_loss: 5.51422167, g_loss: 0.67580467\n",
      "Iter: 100, d_loss: 4.58930588, g_loss: 0.53079408\n",
      "Iter: 200, d_loss: 4.00863266, g_loss: 1.37692034\n",
      "Iter: 300, d_loss: 4.21117973, g_loss: 1.05642855\n",
      "Iter: 400, d_loss: 4.11656189, g_loss: 0.86337310\n",
      "Iter: 500, d_loss: 4.24273586, g_loss: 0.80862093\n",
      "Iter: 600, d_loss: 4.31178474, g_loss: 0.81734771\n",
      "Iter: 700, d_loss: 4.28758812, g_loss: 0.78180343\n",
      "Iter: 800, d_loss: 4.28338337, g_loss: 0.83137834\n",
      "Iter: 900, d_loss: 4.22881794, g_loss: 0.82503647\n",
      "Iter: 1000, d_loss: 4.24630451, g_loss: 0.82047975\n",
      "Iter: 1100, d_loss: 4.29224110, g_loss: 0.79214936\n",
      "Iter: 1200, d_loss: 4.19130898, g_loss: 0.80166292\n",
      "Iter: 1300, d_loss: 4.47550869, g_loss: 0.77358621\n",
      "Iter: 1400, d_loss: 4.44797468, g_loss: 0.73849893\n",
      "Iter: 1500, d_loss: 4.40544987, g_loss: 0.72289002\n",
      "Iter: 1600, d_loss: 4.46348953, g_loss: 0.72866356\n",
      "Iter: 1700, d_loss: 4.42723513, g_loss: 0.82848620\n",
      "Iter: 1800, d_loss: 4.51080799, g_loss: 0.78389192\n",
      "Iter: 1900, d_loss: 4.46754980, g_loss: 0.71664101\n",
      "Iter: 2000, d_loss: 4.39611769, g_loss: 0.75338262\n",
      "Iter: 2100, d_loss: 4.45210600, g_loss: 0.76483107\n",
      "Iter: 2200, d_loss: 4.55393600, g_loss: 0.69602281\n",
      "Iter: 2300, d_loss: 4.45976830, g_loss: 0.72624940\n",
      "Iter: 2400, d_loss: 4.44251442, g_loss: 0.72108001\n",
      "Iter: 2500, d_loss: 4.42700624, g_loss: 0.71418107\n",
      "Iter: 2600, d_loss: 4.48835230, g_loss: 0.74063188\n",
      "Iter: 2700, d_loss: 4.44071484, g_loss: 0.71423203\n",
      "Iter: 2800, d_loss: 4.33110237, g_loss: 0.91089326\n",
      "Iter: 2900, d_loss: 4.48484230, g_loss: 0.71256769\n",
      "Iter: 3000, d_loss: 4.37589359, g_loss: 0.77902603\n",
      " [*] Training finished!\n"
     ]
    }
   ],
   "source": [
    "%run GAN.py --fig_name creative_with_missing_mixt --label --notebook --lambda_g 0 --lambda_d 1 --missing_mixt 1"
   ]
  },
  {
   "cell_type": "markdown",
   "metadata": {},
   "source": [
    "### Plots"
   ]
  },
  {
   "cell_type": "markdown",
   "metadata": {},
   "source": [
    "![title](figs\\new_model_1_missing_d1_g0\\creative_with_missing_mixt.png)\n",
    "![title](figs\\new_model_1_missing_d1_g0\\creative_with_missing_mixt-metrics.png)\n",
    "![title](figs\\density\\new_model_1_missing_d1_g0\\critic_generated3000.png)"
   ]
  },
  {
   "cell_type": "markdown",
   "metadata": {},
   "source": [
    "## 8 Gaussian - new model (d 0.2 g 0)- one mixture missing"
   ]
  },
  {
   "cell_type": "code",
   "execution_count": 7,
   "metadata": {},
   "outputs": [
    {
     "name": "stdout",
     "output_type": "stream",
     "text": [
      "Namespace(batch_size=400, dataset='8Gaussians', fig_name='creative_with_missing_mixt', label=True, lambda_d=0.2, lambda_g=0.0, loss='gan', lrd=0.009, lrg=0.003, minibatch_discriminate=False, missing_mixt=1, nhidden=64, niters=3001, nlayers=4, notebook=True, optim='SGD', scale=2.0)\n",
      "(?, 0)\n",
      "Iter: 0, d_loss: 2.24803686, g_loss: 0.68131059\n",
      "Iter: 100, d_loss: 1.62529063, g_loss: 1.15846848\n",
      "Iter: 200, d_loss: 1.80872369, g_loss: 1.11515152\n",
      "Iter: 300, d_loss: 1.84113884, g_loss: 1.11564064\n",
      "Iter: 400, d_loss: 1.92245793, g_loss: 0.77960932\n",
      "Iter: 500, d_loss: 1.97582173, g_loss: 1.09833562\n",
      "Iter: 600, d_loss: 1.98696530, g_loss: 0.78770983\n",
      "Iter: 700, d_loss: 1.96837151, g_loss: 0.74774629\n",
      "Iter: 800, d_loss: 1.99055147, g_loss: 0.76749831\n",
      "Iter: 900, d_loss: 1.98892212, g_loss: 0.71665514\n",
      "Iter: 1000, d_loss: 2.00225019, g_loss: 0.71294624\n",
      "Iter: 1100, d_loss: 1.98825383, g_loss: 0.73123688\n",
      "Iter: 1200, d_loss: 2.00391030, g_loss: 0.76236236\n",
      "Iter: 1300, d_loss: 1.95670474, g_loss: 0.80623597\n",
      "Iter: 1400, d_loss: 1.97099876, g_loss: 0.75164133\n",
      "Iter: 1500, d_loss: 1.98731744, g_loss: 0.74734908\n",
      "Iter: 1600, d_loss: 1.97054505, g_loss: 0.76391721\n",
      "Iter: 1700, d_loss: 1.98364925, g_loss: 0.76427341\n",
      "Iter: 1800, d_loss: 1.98393607, g_loss: 0.74139780\n",
      "Iter: 1900, d_loss: 1.93368042, g_loss: 1.06795800\n",
      "Iter: 2000, d_loss: 1.98709059, g_loss: 0.70824599\n",
      "Iter: 2100, d_loss: 1.97454929, g_loss: 0.75535780\n",
      "Iter: 2200, d_loss: 2.00339890, g_loss: 0.71992731\n",
      "Iter: 2300, d_loss: 1.97057295, g_loss: 0.74401551\n",
      "Iter: 2400, d_loss: 1.99601173, g_loss: 0.74755263\n",
      "Iter: 2500, d_loss: 1.98214507, g_loss: 0.74834710\n",
      "Iter: 2600, d_loss: 2.00905013, g_loss: 0.69694293\n",
      "Iter: 2700, d_loss: 1.98279703, g_loss: 0.71875358\n",
      "Iter: 2800, d_loss: 2.00611305, g_loss: 0.70470321\n",
      "Iter: 2900, d_loss: 1.99787784, g_loss: 0.69662505\n",
      "Iter: 3000, d_loss: 1.97514486, g_loss: 0.81762445\n",
      " [*] Training finished!\n"
     ]
    }
   ],
   "source": [
    "%run GAN.py --fig_name creative_with_missing_mixt --label --notebook --lambda_g 0 --lambda_d 0.2 --missing_mixt 1"
   ]
  },
  {
   "cell_type": "markdown",
   "metadata": {},
   "source": [
    "### Plots"
   ]
  },
  {
   "cell_type": "markdown",
   "metadata": {},
   "source": [
    "![title](figs\\new_model_1_missing_d0.2_g0\\creative_with_missing_mixt.png)\n",
    "![title](figs\\new_model_1_missing_d0.2_g0\\creative_with_missing_mixt-metrics.png)\n",
    "![title](figs\\density\\new_model_1_missing_d0.2_g0\\critic_generated3000.png)"
   ]
  },
  {
   "cell_type": "markdown",
   "metadata": {},
   "source": [
    "## 8 Gaussian - new model (d 0.1 g 0)- one mixture missing"
   ]
  },
  {
   "cell_type": "code",
   "execution_count": 8,
   "metadata": {},
   "outputs": [
    {
     "name": "stdout",
     "output_type": "stream",
     "text": [
      "Namespace(batch_size=400, dataset='8Gaussians', fig_name='creative_with_missing_mixt', label=True, lambda_d=0.1, lambda_g=0.0, loss='gan', lrd=0.009, lrg=0.003, minibatch_discriminate=False, missing_mixt=1, nhidden=64, niters=3001, nlayers=4, notebook=True, optim='SGD', scale=2.0)\n",
      "(?, 0)\n",
      "Iter: 0, d_loss: 1.82787657, g_loss: 0.68526441\n",
      "Iter: 100, d_loss: 1.57074785, g_loss: 0.95257193\n",
      "Iter: 200, d_loss: 1.41588151, g_loss: 1.47038162\n",
      "Iter: 300, d_loss: 1.57390964, g_loss: 1.08475828\n",
      "Iter: 400, d_loss: 1.51904893, g_loss: 1.24153244\n",
      "Iter: 500, d_loss: 1.64828336, g_loss: 0.94356036\n",
      "Iter: 600, d_loss: 1.67367387, g_loss: 0.74624604\n",
      "Iter: 700, d_loss: 1.62145829, g_loss: 0.89078140\n",
      "Iter: 800, d_loss: 1.68048155, g_loss: 0.79087615\n",
      "Iter: 900, d_loss: 1.62949336, g_loss: 1.38763821\n",
      "Iter: 1000, d_loss: 1.68079364, g_loss: 0.71998388\n",
      "Iter: 1100, d_loss: 1.65616322, g_loss: 0.77455366\n",
      "Iter: 1200, d_loss: 1.70389390, g_loss: 0.70800966\n",
      "Iter: 1300, d_loss: 1.68669581, g_loss: 0.73598725\n",
      "Iter: 1400, d_loss: 1.67211986, g_loss: 0.75748843\n",
      "Iter: 1500, d_loss: 1.71764994, g_loss: 0.69304448\n",
      "Iter: 1600, d_loss: 1.71310949, g_loss: 0.67221087\n",
      "Iter: 1700, d_loss: 1.67782688, g_loss: 0.74153870\n",
      "Iter: 1800, d_loss: 1.66574705, g_loss: 0.72394377\n",
      "Iter: 1900, d_loss: 1.67352629, g_loss: 0.73042357\n",
      "Iter: 2000, d_loss: 1.66778779, g_loss: 0.79056430\n",
      "Iter: 2100, d_loss: 1.67333281, g_loss: 0.75448960\n",
      "Iter: 2200, d_loss: 1.66504920, g_loss: 0.76412600\n",
      "Iter: 2300, d_loss: 1.65433657, g_loss: 0.70490515\n",
      "Iter: 2400, d_loss: 1.68316567, g_loss: 0.70792586\n",
      "Iter: 2500, d_loss: 1.66878533, g_loss: 0.73669225\n",
      "Iter: 2600, d_loss: 1.68515301, g_loss: 0.73322845\n",
      "Iter: 2700, d_loss: 1.68137419, g_loss: 0.72863799\n",
      "Iter: 2800, d_loss: 1.67566860, g_loss: 0.73267764\n",
      "Iter: 2900, d_loss: 1.69486797, g_loss: 0.70116037\n",
      "Iter: 3000, d_loss: 1.69443727, g_loss: 0.71889281\n",
      " [*] Training finished!\n"
     ]
    }
   ],
   "source": [
    "%run GAN.py --fig_name creative_with_missing_mixt --label --notebook --lambda_g 0 --lambda_d 0.1 --missing_mixt 1"
   ]
  },
  {
   "cell_type": "markdown",
   "metadata": {},
   "source": [
    "### Plots"
   ]
  },
  {
   "cell_type": "markdown",
   "metadata": {},
   "source": [
    "![title](figs\\new_model_1_missing_d0.1_g0\\creative_with_missing_mixt.png)\n",
    "![title](figs\\new_model_1_missing_d0.1_g0\\creative_with_missing_mixt-metrics.png)\n",
    "![title](figs\\density\\new_model_1_missing_d0.1_g0\\critic_generated3000.png)"
   ]
  },
  {
   "cell_type": "markdown",
   "metadata": {},
   "source": [
    "## 8 Gaussian - new model (d 0.01 g 0)- one mixture missing"
   ]
  },
  {
   "cell_type": "code",
   "execution_count": 9,
   "metadata": {},
   "outputs": [
    {
     "name": "stdout",
     "output_type": "stream",
     "text": [
      "Namespace(batch_size=400, dataset='8Gaussians', fig_name='creative_with_missing_mixt', label=True, lambda_d=0.01, lambda_g=0.0, loss='gan', lrd=0.009, lrg=0.003, minibatch_discriminate=False, missing_mixt=1, nhidden=64, niters=3001, nlayers=4, notebook=True, optim='SGD', scale=2.0)\n",
      "(?, 0)\n",
      "Iter: 0, d_loss: 1.46632302, g_loss: 0.68157840\n",
      "Iter: 100, d_loss: 1.39022517, g_loss: 1.68113744\n",
      "Iter: 200, d_loss: 1.54565048, g_loss: 2.81422734\n",
      "Iter: 300, d_loss: 1.22746444, g_loss: 1.35437191\n",
      "Iter: 400, d_loss: 1.31642711, g_loss: 1.18872178\n",
      "Iter: 500, d_loss: 1.40413702, g_loss: 0.81354856\n",
      "Iter: 600, d_loss: 1.37210548, g_loss: 0.84583163\n",
      "Iter: 700, d_loss: 1.38485646, g_loss: 0.78915924\n",
      "Iter: 800, d_loss: 1.39663935, g_loss: 0.80350786\n",
      "Iter: 900, d_loss: 1.40103233, g_loss: 0.76338351\n",
      "Iter: 1000, d_loss: 1.41499400, g_loss: 0.72059512\n",
      "Iter: 1100, d_loss: 1.39607120, g_loss: 0.72381926\n",
      "Iter: 1200, d_loss: 1.38993979, g_loss: 0.75966352\n",
      "Iter: 1300, d_loss: 1.39018798, g_loss: 0.73948359\n",
      "Iter: 1400, d_loss: 1.39617920, g_loss: 0.78239423\n",
      "Iter: 1500, d_loss: 1.41402912, g_loss: 0.70548004\n",
      "Iter: 1600, d_loss: 1.40671670, g_loss: 0.71557707\n",
      "Iter: 1700, d_loss: 1.40077245, g_loss: 0.73874545\n",
      "Iter: 1800, d_loss: 1.41483951, g_loss: 0.69589341\n",
      "Iter: 1900, d_loss: 1.39842772, g_loss: 0.76652771\n",
      "Iter: 2000, d_loss: 1.33197141, g_loss: 1.26051748\n",
      "Iter: 2100, d_loss: 1.38609576, g_loss: 0.74337721\n",
      "Iter: 2200, d_loss: 1.39497995, g_loss: 0.76344359\n",
      "Iter: 2300, d_loss: 1.39131296, g_loss: 0.75407851\n",
      "Iter: 2400, d_loss: 1.39118314, g_loss: 0.76105982\n",
      "Iter: 2500, d_loss: 1.35923564, g_loss: 0.77063197\n",
      "Iter: 2600, d_loss: 1.41991389, g_loss: 0.72742438\n",
      "Iter: 2700, d_loss: 1.38336825, g_loss: 0.74148643\n",
      "Iter: 2800, d_loss: 1.39351642, g_loss: 0.77150923\n",
      "Iter: 2900, d_loss: 1.38015246, g_loss: 0.70140982\n",
      "Iter: 3000, d_loss: 1.43325996, g_loss: 0.69391251\n",
      " [*] Training finished!\n"
     ]
    }
   ],
   "source": [
    "%run GAN.py --fig_name creative_with_missing_mixt --label --notebook --lambda_g 0 --lambda_d 0.01 --missing_mixt 1"
   ]
  },
  {
   "cell_type": "markdown",
   "metadata": {},
   "source": [
    "### Plots"
   ]
  },
  {
   "cell_type": "markdown",
   "metadata": {},
   "source": [
    "![title](figs\\new_model_1_missing_d0.01_g0\\creative_with_missing_mixt.png)\n",
    "![title](figs\\new_model_1_missing_d0.01_g0\\creative_with_missing_mixt-metrics.png)\n",
    "![title](figs\\density\\new_model_1_missing_d0.01_g0\\critic_generated3000.png)"
   ]
  },
  {
   "cell_type": "markdown",
   "metadata": {},
   "source": [
    "## 8 Gaussian - new model (d 0 g 0.2)- one mixture missing"
   ]
  },
  {
   "cell_type": "code",
   "execution_count": 11,
   "metadata": {},
   "outputs": [
    {
     "name": "stdout",
     "output_type": "stream",
     "text": [
      "Namespace(batch_size=400, dataset='8Gaussians', fig_name='creative_with_missing_mixt', label=True, lambda_d=0.0, lambda_g=0.2, loss='gan', lrd=0.009, lrg=0.003, minibatch_discriminate=False, missing_mixt=1, nhidden=64, niters=3001, nlayers=4, notebook=True, optim='SGD', scale=2.0)\n",
      "(?, 0)\n",
      "Iter: 0, d_loss: 1.46153402, g_loss: 1.09640908\n",
      "Iter: 100, d_loss: 1.03137052, g_loss: 2.58428359\n",
      "Iter: 200, d_loss: 1.10547590, g_loss: 2.10767508\n",
      "Iter: 300, d_loss: 1.28079641, g_loss: 1.39500594\n",
      "Iter: 400, d_loss: 1.22083712, g_loss: 1.77743030\n",
      "Iter: 500, d_loss: 1.22233009, g_loss: 1.84070897\n",
      "Iter: 600, d_loss: 1.28885925, g_loss: 1.31718910\n",
      "Iter: 700, d_loss: 1.30861235, g_loss: 1.27465165\n",
      "Iter: 800, d_loss: 1.30831742, g_loss: 1.27799261\n",
      "Iter: 900, d_loss: 1.32432389, g_loss: 1.26150787\n",
      "Iter: 1000, d_loss: 1.33271122, g_loss: 1.21932995\n",
      "Iter: 1100, d_loss: 1.33719194, g_loss: 1.20093071\n",
      "Iter: 1200, d_loss: 1.33166385, g_loss: 1.25433719\n",
      "Iter: 1300, d_loss: 1.27189827, g_loss: 1.31852818\n",
      "Iter: 1400, d_loss: 1.32862675, g_loss: 1.26785183\n",
      "Iter: 1500, d_loss: 1.32371473, g_loss: 1.25575602\n",
      "Iter: 1600, d_loss: 1.35574317, g_loss: 1.17012131\n",
      "Iter: 1700, d_loss: 1.34331083, g_loss: 1.21657956\n",
      "Iter: 1800, d_loss: 1.29810667, g_loss: 1.24121821\n",
      "Iter: 1900, d_loss: 1.22330964, g_loss: 2.26304293\n",
      "Iter: 2000, d_loss: 1.35517144, g_loss: 1.19597673\n",
      "Iter: 2100, d_loss: 1.38106906, g_loss: 1.18308771\n",
      "Iter: 2200, d_loss: 1.35456789, g_loss: 1.17868257\n",
      "Iter: 2300, d_loss: 1.31371570, g_loss: 1.21229661\n",
      "Iter: 2400, d_loss: 1.33709991, g_loss: 1.23971593\n",
      "Iter: 2500, d_loss: 1.38228965, g_loss: 1.14906597\n",
      "Iter: 2600, d_loss: 1.36258030, g_loss: 1.12904978\n",
      "Iter: 2700, d_loss: 1.37964165, g_loss: 1.13961518\n",
      "Iter: 2800, d_loss: 1.36666167, g_loss: 1.12427974\n",
      "Iter: 2900, d_loss: 1.38225329, g_loss: 1.15382957\n",
      "Iter: 3000, d_loss: 1.24593735, g_loss: 1.59843051\n",
      " [*] Training finished!\n"
     ]
    }
   ],
   "source": [
    "%run GAN.py --fig_name creative_with_missing_mixt --label --notebook --lambda_g 0.2 --lambda_d 0 --missing_mixt 1"
   ]
  },
  {
   "cell_type": "markdown",
   "metadata": {},
   "source": [
    "### Plots"
   ]
  },
  {
   "cell_type": "markdown",
   "metadata": {},
   "source": [
    "![title](figs\\new_model_1_missing_d0_g0.2\\creative_with_missing_mixt.png)\n",
    "![title](figs\\new_model_1_missing_d0_g0.2\\creative_with_missing_mixt-metrics.png)\n",
    "![title](figs\\density\\new_model_1_missing_d0_g0.2\\critic_generated3000.png)"
   ]
  },
  {
   "cell_type": "markdown",
   "metadata": {},
   "source": [
    "## 8 Gaussian - new model (d 0 g 1)- one mixture missing"
   ]
  },
  {
   "cell_type": "code",
   "execution_count": 12,
   "metadata": {},
   "outputs": [
    {
     "name": "stdout",
     "output_type": "stream",
     "text": [
      "Namespace(batch_size=400, dataset='8Gaussians', fig_name='creative_with_missing_mixt', label=True, lambda_d=0.0, lambda_g=1.0, loss='gan', lrd=0.009, lrg=0.003, minibatch_discriminate=False, missing_mixt=1, nhidden=64, niters=3001, nlayers=4, notebook=True, optim='SGD', scale=2.0)\n",
      "(?, 0)\n"
     ]
    },
    {
     "name": "stderr",
     "output_type": "stream",
     "text": [
      "/Users/gunesyurdakul/anaconda/lib/python3.5/site-packages/matplotlib/pyplot.py:537: RuntimeWarning: More than 20 figures have been opened. Figures created through the pyplot interface (`matplotlib.pyplot.figure`) are retained until explicitly closed and may consume too much memory. (To control this warning, see the rcParam `figure.max_open_warning`).\n",
      "  max_open_warning, RuntimeWarning)\n"
     ]
    },
    {
     "name": "stdout",
     "output_type": "stream",
     "text": [
      "Iter: 0, d_loss: 1.40918112, g_loss: 2.76640463\n",
      "Iter: 100, d_loss: 1.26650548, g_loss: 3.86308861\n",
      "Iter: 200, d_loss: 1.16512895, g_loss: 3.11165166\n",
      "Iter: 300, d_loss: 1.25886643, g_loss: 3.21141744\n",
      "Iter: 400, d_loss: 1.22829032, g_loss: 3.01724362\n",
      "Iter: 500, d_loss: 1.28315687, g_loss: 2.88143992\n",
      "Iter: 600, d_loss: 1.26485980, g_loss: 2.92760420\n",
      "Iter: 700, d_loss: 1.26267886, g_loss: 2.96092272\n",
      "Iter: 800, d_loss: 1.30786681, g_loss: 2.90779281\n",
      "Iter: 900, d_loss: 1.27834153, g_loss: 2.91319752\n",
      "Iter: 1000, d_loss: 1.26528788, g_loss: 2.94213080\n",
      "Iter: 1100, d_loss: 1.26912236, g_loss: 2.95249319\n",
      "Iter: 1200, d_loss: 1.23946619, g_loss: 2.92770243\n",
      "Iter: 1300, d_loss: 1.19508743, g_loss: 3.13885689\n",
      "Iter: 1400, d_loss: 1.25423932, g_loss: 2.93825006\n",
      "Iter: 1500, d_loss: 1.24892557, g_loss: 2.92639494\n",
      "Iter: 1600, d_loss: 1.28567553, g_loss: 2.91871834\n",
      "Iter: 1700, d_loss: 1.28505754, g_loss: 2.92588186\n",
      "Iter: 1800, d_loss: 1.27737284, g_loss: 2.89977789\n",
      "Iter: 1900, d_loss: 1.25082850, g_loss: 2.98886871\n",
      "Iter: 2000, d_loss: 1.26681805, g_loss: 2.92864728\n",
      "Iter: 2100, d_loss: 1.27820015, g_loss: 2.88236094\n",
      "Iter: 2200, d_loss: 1.27985883, g_loss: 2.91948938\n",
      "Iter: 2300, d_loss: 1.26505637, g_loss: 2.92506480\n",
      "Iter: 2400, d_loss: 1.23384106, g_loss: 3.04203320\n",
      "Iter: 2500, d_loss: 1.27230346, g_loss: 2.90782571\n",
      "Iter: 2600, d_loss: 1.14393950, g_loss: 2.98492718\n",
      "Iter: 2700, d_loss: 1.20587587, g_loss: 3.03568554\n",
      "Iter: 2800, d_loss: 1.17275667, g_loss: 3.50775194\n",
      "Iter: 2900, d_loss: 1.21860504, g_loss: 3.01607537\n",
      "Iter: 3000, d_loss: 1.20582843, g_loss: 2.99361038\n",
      " [*] Training finished!\n"
     ]
    }
   ],
   "source": [
    "%run GAN.py --fig_name creative_with_missing_mixt --label --notebook --lambda_g 1 --lambda_d 0 --missing_mixt 1"
   ]
  },
  {
   "cell_type": "markdown",
   "metadata": {},
   "source": [
    "### Plots"
   ]
  },
  {
   "cell_type": "markdown",
   "metadata": {},
   "source": [
    "![title](figs\\new_model_1_missing_d0_g1\\creative_with_missing_mixt.png)\n",
    "![title](figs\\new_model_1_missing_d0_g1\\creative_with_missing_mixt-metrics.png)\n",
    "![title](figs\\density\\new_model_1_missing_d0_g1\\critic_generated3000.png)"
   ]
  },
  {
   "cell_type": "markdown",
   "metadata": {},
   "source": [
    "### default vs labeled\n",
    "- when one or more mixture missing\n",
    "- using imbalanced data vs normal data"
   ]
  },
  {
   "cell_type": "markdown",
   "metadata": {},
   "source": [
    "noise size"
   ]
  },
  {
   "cell_type": "code",
   "execution_count": null,
   "metadata": {
    "collapsed": true
   },
   "outputs": [],
   "source": []
  }
 ],
 "metadata": {
  "kernelspec": {
   "display_name": "Python [anaconda]",
   "language": "python",
   "name": "Python [anaconda]"
  },
  "language_info": {
   "codemirror_mode": {
    "name": "ipython",
    "version": 3
   },
   "file_extension": ".py",
   "mimetype": "text/x-python",
   "name": "python",
   "nbconvert_exporter": "python",
   "pygments_lexer": "ipython3",
   "version": "3.5.5"
  }
 },
 "nbformat": 4,
 "nbformat_minor": 2
}
